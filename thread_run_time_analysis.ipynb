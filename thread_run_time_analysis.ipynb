{
 "metadata": {
  "name": "",
  "signature": "sha256:9e82624c60c8d7bd92ac72f86ac20acfe2c039f06044b04b293e158e45576673"
 },
 "nbformat": 3,
 "nbformat_minor": 0,
 "worksheets": [
  {
   "cells": [
    {
     "cell_type": "code",
     "collapsed": false,
     "input": [
      "import pandas as pd"
     ],
     "language": "python",
     "metadata": {},
     "outputs": [],
     "prompt_number": 1
    },
    {
     "cell_type": "code",
     "collapsed": false,
     "input": [
      "import json"
     ],
     "language": "python",
     "metadata": {},
     "outputs": [],
     "prompt_number": 2
    },
    {
     "cell_type": "code",
     "collapsed": false,
     "input": [
      "results = json.load(open(\"/work/eng/eliavb/all_distance_sketch/result.json\"))"
     ],
     "language": "python",
     "metadata": {},
     "outputs": [],
     "prompt_number": 7
    },
    {
     "cell_type": "code",
     "collapsed": false,
     "input": [
      "df = pd.DataFrame.from_dict(results)"
     ],
     "language": "python",
     "metadata": {},
     "outputs": [],
     "prompt_number": 9
    },
    {
     "cell_type": "code",
     "collapsed": false,
     "input": [
      "df"
     ],
     "language": "python",
     "metadata": {},
     "outputs": [
      {
       "html": [
        "<div style=\"max-height:1000px;max-width:1500px;overflow:auto;\">\n",
        "<table border=\"1\" class=\"dataframe\">\n",
        "  <thead>\n",
        "    <tr style=\"text-align: right;\">\n",
        "      <th></th>\n",
        "      <th>data_set</th>\n",
        "      <th>num_threads</th>\n",
        "      <th>time</th>\n",
        "    </tr>\n",
        "  </thead>\n",
        "  <tbody>\n",
        "    <tr>\n",
        "      <th>0</th>\n",
        "      <td>/users/eng/eliavb/data/facebook</td>\n",
        "      <td>1</td>\n",
        "      <td>994</td>\n",
        "    </tr>\n",
        "    <tr>\n",
        "      <th>1</th>\n",
        "      <td>/users/eng/eliavb/data/facebook</td>\n",
        "      <td>2</td>\n",
        "      <td>859</td>\n",
        "    </tr>\n",
        "    <tr>\n",
        "      <th>2</th>\n",
        "      <td>/users/eng/eliavb/data/facebook</td>\n",
        "      <td>3</td>\n",
        "      <td>714</td>\n",
        "    </tr>\n",
        "    <tr>\n",
        "      <th>3</th>\n",
        "      <td>/users/eng/eliavb/data/facebook</td>\n",
        "      <td>4</td>\n",
        "      <td>819</td>\n",
        "    </tr>\n",
        "    <tr>\n",
        "      <th>4</th>\n",
        "      <td>/users/eng/eliavb/data/facebook</td>\n",
        "      <td>5</td>\n",
        "      <td>731</td>\n",
        "    </tr>\n",
        "    <tr>\n",
        "      <th>5</th>\n",
        "      <td>/users/eng/eliavb/data/facebook</td>\n",
        "      <td>6</td>\n",
        "      <td>600</td>\n",
        "    </tr>\n",
        "    <tr>\n",
        "      <th>6</th>\n",
        "      <td>/users/eng/eliavb/data/facebook</td>\n",
        "      <td>7</td>\n",
        "      <td>557</td>\n",
        "    </tr>\n",
        "    <tr>\n",
        "      <th>7</th>\n",
        "      <td>/users/eng/eliavb/data/facebook</td>\n",
        "      <td>8</td>\n",
        "      <td>559</td>\n",
        "    </tr>\n",
        "    <tr>\n",
        "      <th>8</th>\n",
        "      <td>/users/eng/eliavb/data/facebook</td>\n",
        "      <td>9</td>\n",
        "      <td>587</td>\n",
        "    </tr>\n",
        "    <tr>\n",
        "      <th>9</th>\n",
        "      <td>/users/eng/eliavb/data/facebook</td>\n",
        "      <td>10</td>\n",
        "      <td>535</td>\n",
        "    </tr>\n",
        "    <tr>\n",
        "      <th>10</th>\n",
        "      <td>/users/eng/eliavb/data/facebook</td>\n",
        "      <td>11</td>\n",
        "      <td>537</td>\n",
        "    </tr>\n",
        "    <tr>\n",
        "      <th>11</th>\n",
        "      <td>/users/eng/eliavb/data/facebook</td>\n",
        "      <td>12</td>\n",
        "      <td>507</td>\n",
        "    </tr>\n",
        "    <tr>\n",
        "      <th>12</th>\n",
        "      <td>/users/eng/eliavb/data/facebook</td>\n",
        "      <td>13</td>\n",
        "      <td>524</td>\n",
        "    </tr>\n",
        "    <tr>\n",
        "      <th>13</th>\n",
        "      <td>/users/eng/eliavb/data/facebook</td>\n",
        "      <td>14</td>\n",
        "      <td>518</td>\n",
        "    </tr>\n",
        "  </tbody>\n",
        "</table>\n",
        "</div>"
       ],
       "metadata": {},
       "output_type": "pyout",
       "prompt_number": 13,
       "text": [
        "                           data_set  num_threads  time\n",
        "0   /users/eng/eliavb/data/facebook            1   994\n",
        "1   /users/eng/eliavb/data/facebook            2   859\n",
        "2   /users/eng/eliavb/data/facebook            3   714\n",
        "3   /users/eng/eliavb/data/facebook            4   819\n",
        "4   /users/eng/eliavb/data/facebook            5   731\n",
        "5   /users/eng/eliavb/data/facebook            6   600\n",
        "6   /users/eng/eliavb/data/facebook            7   557\n",
        "7   /users/eng/eliavb/data/facebook            8   559\n",
        "8   /users/eng/eliavb/data/facebook            9   587\n",
        "9   /users/eng/eliavb/data/facebook           10   535\n",
        "10  /users/eng/eliavb/data/facebook           11   537\n",
        "11  /users/eng/eliavb/data/facebook           12   507\n",
        "12  /users/eng/eliavb/data/facebook           13   524\n",
        "13  /users/eng/eliavb/data/facebook           14   518"
       ]
      }
     ],
     "prompt_number": 13
    },
    {
     "cell_type": "code",
     "collapsed": false,
     "input": [],
     "language": "python",
     "metadata": {},
     "outputs": []
    }
   ],
   "metadata": {}
  }
 ]
}