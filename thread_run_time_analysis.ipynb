{
 "metadata": {
  "name": "",
  "signature": "sha256:c8a1b149325edee4c1994d23bba35874b7a368b11e0ee9620d94795872f6786a"
 },
 "nbformat": 3,
 "nbformat_minor": 0,
 "worksheets": [
  {
   "cells": [
    {
     "cell_type": "code",
     "collapsed": false,
     "input": [
      "import pandas as pd\n",
      "import matplotlib.pyplot as plt"
     ],
     "language": "python",
     "metadata": {},
     "outputs": [],
     "prompt_number": 28
    },
    {
     "cell_type": "code",
     "collapsed": false,
     "input": [
      "import json"
     ],
     "language": "python",
     "metadata": {},
     "outputs": [],
     "prompt_number": 2
    },
    {
     "cell_type": "code",
     "collapsed": false,
     "input": [
      "results = json.load(open(\"/work/eng/eliavb/all_distance_sketch/result.json\"))"
     ],
     "language": "python",
     "metadata": {},
     "outputs": [],
     "prompt_number": 18
    },
    {
     "cell_type": "code",
     "collapsed": false,
     "input": [
      "df = pd.DataFrame.from_dict(results)"
     ],
     "language": "python",
     "metadata": {},
     "outputs": [],
     "prompt_number": 19
    },
    {
     "cell_type": "code",
     "collapsed": false,
     "input": [
      "df.head()"
     ],
     "language": "python",
     "metadata": {},
     "outputs": [
      {
       "html": [
        "<div style=\"max-height:1000px;max-width:1500px;overflow:auto;\">\n",
        "<table border=\"1\" class=\"dataframe\">\n",
        "  <thead>\n",
        "    <tr style=\"text-align: right;\">\n",
        "      <th></th>\n",
        "      <th>data_set</th>\n",
        "      <th>num_threads</th>\n",
        "      <th>time</th>\n",
        "    </tr>\n",
        "  </thead>\n",
        "  <tbody>\n",
        "    <tr>\n",
        "      <th>0</th>\n",
        "      <td>/users/eng/eliavb/data/facebook</td>\n",
        "      <td>1</td>\n",
        "      <td>1037</td>\n",
        "    </tr>\n",
        "    <tr>\n",
        "      <th>1</th>\n",
        "      <td>/users/eng/eliavb/data/facebook</td>\n",
        "      <td>2</td>\n",
        "      <td>928</td>\n",
        "    </tr>\n",
        "    <tr>\n",
        "      <th>2</th>\n",
        "      <td>/users/eng/eliavb/data/facebook</td>\n",
        "      <td>3</td>\n",
        "      <td>708</td>\n",
        "    </tr>\n",
        "    <tr>\n",
        "      <th>3</th>\n",
        "      <td>/users/eng/eliavb/data/facebook</td>\n",
        "      <td>4</td>\n",
        "      <td>658</td>\n",
        "    </tr>\n",
        "    <tr>\n",
        "      <th>4</th>\n",
        "      <td>/users/eng/eliavb/data/facebook</td>\n",
        "      <td>5</td>\n",
        "      <td>606</td>\n",
        "    </tr>\n",
        "  </tbody>\n",
        "</table>\n",
        "</div>"
       ],
       "metadata": {},
       "output_type": "pyout",
       "prompt_number": 22,
       "text": [
        "                          data_set  num_threads  time\n",
        "0  /users/eng/eliavb/data/facebook            1  1037\n",
        "1  /users/eng/eliavb/data/facebook            2   928\n",
        "2  /users/eng/eliavb/data/facebook            3   708\n",
        "3  /users/eng/eliavb/data/facebook            4   658\n",
        "4  /users/eng/eliavb/data/facebook            5   606"
       ]
      }
     ],
     "prompt_number": 22
    },
    {
     "cell_type": "code",
     "collapsed": false,
     "input": [
      "data_sets = list(set(df.data_set.values))\n",
      "for data_set_ in data_sets:\n",
      "    df_ = df[df.data_set == data_set_]\n",
      "    single_thread_time = df_[df_.num_threads == 1].time.values[0]\n",
      "    df.ix[df.data_set == data_set_, \"time\"] = df[df.data_set == data_set_][\"time\"] / single_thread_time"
     ],
     "language": "python",
     "metadata": {},
     "outputs": [],
     "prompt_number": 41
    },
    {
     "cell_type": "code",
     "collapsed": false,
     "input": [
      "df.head()"
     ],
     "language": "python",
     "metadata": {},
     "outputs": [
      {
       "html": [
        "<div style=\"max-height:1000px;max-width:1500px;overflow:auto;\">\n",
        "<table border=\"1\" class=\"dataframe\">\n",
        "  <thead>\n",
        "    <tr style=\"text-align: right;\">\n",
        "      <th></th>\n",
        "      <th>data_set</th>\n",
        "      <th>num_threads</th>\n",
        "      <th>time</th>\n",
        "    </tr>\n",
        "  </thead>\n",
        "  <tbody>\n",
        "    <tr>\n",
        "      <th>0</th>\n",
        "      <td>/users/eng/eliavb/data/facebook</td>\n",
        "      <td>1</td>\n",
        "      <td>1.000000</td>\n",
        "    </tr>\n",
        "    <tr>\n",
        "      <th>1</th>\n",
        "      <td>/users/eng/eliavb/data/facebook</td>\n",
        "      <td>2</td>\n",
        "      <td>0.894889</td>\n",
        "    </tr>\n",
        "    <tr>\n",
        "      <th>2</th>\n",
        "      <td>/users/eng/eliavb/data/facebook</td>\n",
        "      <td>3</td>\n",
        "      <td>0.682739</td>\n",
        "    </tr>\n",
        "    <tr>\n",
        "      <th>3</th>\n",
        "      <td>/users/eng/eliavb/data/facebook</td>\n",
        "      <td>4</td>\n",
        "      <td>0.634523</td>\n",
        "    </tr>\n",
        "    <tr>\n",
        "      <th>4</th>\n",
        "      <td>/users/eng/eliavb/data/facebook</td>\n",
        "      <td>5</td>\n",
        "      <td>0.584378</td>\n",
        "    </tr>\n",
        "  </tbody>\n",
        "</table>\n",
        "</div>"
       ],
       "metadata": {},
       "output_type": "pyout",
       "prompt_number": 42,
       "text": [
        "                          data_set  num_threads      time\n",
        "0  /users/eng/eliavb/data/facebook            1  1.000000\n",
        "1  /users/eng/eliavb/data/facebook            2  0.894889\n",
        "2  /users/eng/eliavb/data/facebook            3  0.682739\n",
        "3  /users/eng/eliavb/data/facebook            4  0.634523\n",
        "4  /users/eng/eliavb/data/facebook            5  0.584378"
       ]
      }
     ],
     "prompt_number": 42
    },
    {
     "cell_type": "code",
     "collapsed": false,
     "input": [
      "def get_name(data_set):\n",
      "    if \"facebook\" in data_set:\n",
      "        return \"Facebook\"\n",
      "    if \"live_journal\" in data_set:\n",
      "        return \"Live journal\"\n",
      "    if \"tweeter\" in data_set:\n",
      "        return \"Twitter\"\n",
      "    if \"youtube\" in data_set:\n",
      "        return \"YouTube\"\n",
      "    if \"slashdot\" in data_set:\n",
      "        return \"Slashdot\""
     ],
     "language": "python",
     "metadata": {},
     "outputs": [],
     "prompt_number": 44
    },
    {
     "cell_type": "code",
     "collapsed": false,
     "input": [
      "data_sets = list(set(df.data_set.values))\n",
      "x_axis = range(1,15)\n",
      "labels = []\n",
      "plotHandles = []\n",
      "plt.figure(figsize=(12,7))\n",
      "for data_set_ in data_sets:\n",
      "    df_ = df[df.data_set == data_set_]\n",
      "    x, = plt.plot(x_axis, df_.time.values)\n",
      "    plotHandles.append(x)\n",
      "    labels.append(get_name(data_set_))\n",
      "plt.axis([1, 14, 0, 1])\n",
      "plt.legend(plotHandles, labels, 'upper right',ncol=1)"
     ],
     "language": "python",
     "metadata": {},
     "outputs": [
      {
       "metadata": {},
       "output_type": "pyout",
       "prompt_number": 52,
       "text": [
        "<matplotlib.legend.Legend at 0x7f0ec35b3110>"
       ]
      },
      {
       "metadata": {},
       "output_type": "display_data",
       "png": "[encoded data removed]",
       "text": [
        "<matplotlib.figure.Figure at 0x7f0ec35b32d0>"
       ]
      }
     ],
     "prompt_number": 52
    },
    {
     "cell_type": "code",
     "collapsed": false,
     "input": [
      "df[df.data_set == \"/users/eng/eliavb/data/tweeter\"]"
     ],
     "language": "python",
     "metadata": {},
     "outputs": [
      {
       "html": [
        "<div style=\"max-height:1000px;max-width:1500px;overflow:auto;\">\n",
        "<table border=\"1\" class=\"dataframe\">\n",
        "  <thead>\n",
        "    <tr style=\"text-align: right;\">\n",
        "      <th></th>\n",
        "      <th>data_set</th>\n",
        "      <th>num_threads</th>\n",
        "      <th>time</th>\n",
        "    </tr>\n",
        "  </thead>\n",
        "  <tbody>\n",
        "    <tr>\n",
        "      <th>42</th>\n",
        "      <td>/users/eng/eliavb/data/tweeter</td>\n",
        "      <td>1</td>\n",
        "      <td>1.000000</td>\n",
        "    </tr>\n",
        "    <tr>\n",
        "      <th>43</th>\n",
        "      <td>/users/eng/eliavb/data/tweeter</td>\n",
        "      <td>2</td>\n",
        "      <td>0.632128</td>\n",
        "    </tr>\n",
        "    <tr>\n",
        "      <th>44</th>\n",
        "      <td>/users/eng/eliavb/data/tweeter</td>\n",
        "      <td>3</td>\n",
        "      <td>0.476516</td>\n",
        "    </tr>\n",
        "    <tr>\n",
        "      <th>45</th>\n",
        "      <td>/users/eng/eliavb/data/tweeter</td>\n",
        "      <td>4</td>\n",
        "      <td>0.421223</td>\n",
        "    </tr>\n",
        "    <tr>\n",
        "      <th>46</th>\n",
        "      <td>/users/eng/eliavb/data/tweeter</td>\n",
        "      <td>5</td>\n",
        "      <td>0.371444</td>\n",
        "    </tr>\n",
        "    <tr>\n",
        "      <th>47</th>\n",
        "      <td>/users/eng/eliavb/data/tweeter</td>\n",
        "      <td>6</td>\n",
        "      <td>0.326065</td>\n",
        "    </tr>\n",
        "    <tr>\n",
        "      <th>48</th>\n",
        "      <td>/users/eng/eliavb/data/tweeter</td>\n",
        "      <td>7</td>\n",
        "      <td>0.324004</td>\n",
        "    </tr>\n",
        "    <tr>\n",
        "      <th>49</th>\n",
        "      <td>/users/eng/eliavb/data/tweeter</td>\n",
        "      <td>8</td>\n",
        "      <td>0.293216</td>\n",
        "    </tr>\n",
        "    <tr>\n",
        "      <th>50</th>\n",
        "      <td>/users/eng/eliavb/data/tweeter</td>\n",
        "      <td>9</td>\n",
        "      <td>0.310059</td>\n",
        "    </tr>\n",
        "    <tr>\n",
        "      <th>51</th>\n",
        "      <td>/users/eng/eliavb/data/tweeter</td>\n",
        "      <td>10</td>\n",
        "      <td>0.270153</td>\n",
        "    </tr>\n",
        "    <tr>\n",
        "      <th>52</th>\n",
        "      <td>/users/eng/eliavb/data/tweeter</td>\n",
        "      <td>11</td>\n",
        "      <td>0.257723</td>\n",
        "    </tr>\n",
        "    <tr>\n",
        "      <th>53</th>\n",
        "      <td>/users/eng/eliavb/data/tweeter</td>\n",
        "      <td>12</td>\n",
        "      <td>0.260882</td>\n",
        "    </tr>\n",
        "    <tr>\n",
        "      <th>54</th>\n",
        "      <td>/users/eng/eliavb/data/tweeter</td>\n",
        "      <td>13</td>\n",
        "      <td>0.250346</td>\n",
        "    </tr>\n",
        "    <tr>\n",
        "      <th>55</th>\n",
        "      <td>/users/eng/eliavb/data/tweeter</td>\n",
        "      <td>14</td>\n",
        "      <td>0.240943</td>\n",
        "    </tr>\n",
        "  </tbody>\n",
        "</table>\n",
        "</div>"
       ],
       "metadata": {},
       "output_type": "pyout",
       "prompt_number": 55,
       "text": [
        "                          data_set  num_threads      time\n",
        "42  /users/eng/eliavb/data/tweeter            1  1.000000\n",
        "43  /users/eng/eliavb/data/tweeter            2  0.632128\n",
        "44  /users/eng/eliavb/data/tweeter            3  0.476516\n",
        "45  /users/eng/eliavb/data/tweeter            4  0.421223\n",
        "46  /users/eng/eliavb/data/tweeter            5  0.371444\n",
        "47  /users/eng/eliavb/data/tweeter            6  0.326065\n",
        "48  /users/eng/eliavb/data/tweeter            7  0.324004\n",
        "49  /users/eng/eliavb/data/tweeter            8  0.293216\n",
        "50  /users/eng/eliavb/data/tweeter            9  0.310059\n",
        "51  /users/eng/eliavb/data/tweeter           10  0.270153\n",
        "52  /users/eng/eliavb/data/tweeter           11  0.257723\n",
        "53  /users/eng/eliavb/data/tweeter           12  0.260882\n",
        "54  /users/eng/eliavb/data/tweeter           13  0.250346\n",
        "55  /users/eng/eliavb/data/tweeter           14  0.240943"
       ]
      }
     ],
     "prompt_number": 55
    },
    {
     "cell_type": "code",
     "collapsed": false,
     "input": [],
     "language": "python",
     "metadata": {},
     "outputs": []
    }
   ],
   "metadata": {}
  }
 ]
}