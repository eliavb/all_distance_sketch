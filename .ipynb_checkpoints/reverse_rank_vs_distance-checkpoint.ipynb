{
 "metadata": {
  "name": "",
  "signature": "sha256:88afa9cd04619cd8e92faac017c396e33b90814aacb96088a2d68f530dfe6acb"
 },
 "nbformat": 3,
 "nbformat_minor": 0,
 "worksheets": [
  {
   "cells": [
    {
     "cell_type": "code",
     "collapsed": false,
     "input": [
      "import pandas as pd\n",
      "import matplotlib.pyplot as plt\n",
      "import numpy as np\n",
      "from scipy import stats as st\n",
      "import time\n",
      "import glob\n",
      "import ntpath"
     ],
     "language": "python",
     "metadata": {},
     "outputs": [],
     "prompt_number": 94
    },
    {
     "cell_type": "code",
     "collapsed": false,
     "input": [
      "sys.path.append('/work/eng/eliavb/all_distance_sketch/src/proto/')"
     ],
     "language": "python",
     "metadata": {},
     "outputs": [],
     "prompt_number": 3
    },
    {
     "cell_type": "code",
     "collapsed": false,
     "input": [
      "import cover_pb2\n",
      "import ranking_pb2"
     ],
     "language": "python",
     "metadata": {},
     "outputs": [],
     "prompt_number": 4
    },
    {
     "cell_type": "code",
     "collapsed": false,
     "input": [
      "base_dir = \"/work/eng/eliavb/experiments/slashdot/\"\n",
      "def get_kendall_dist(id_, base_dir, num_elements):\n",
      "    f_name_d = base_dir + id_ + \"_d\"\n",
      "    f_name_r = base_dir + id_ + \"_r\"\n",
      "    data_d = open(f_name_d, \"rb\").read()\n",
      "    data_r = open(f_name_r, \"rb\").read()\n",
      "    ranking_d = ranking_pb2.NodeRanksGpb()\n",
      "    ranking_r = ranking_pb2.NodeRanksGpb()\n",
      "    ranking_d.ParseFromString(data_d)\n",
      "    ranking_r.ParseFromString(data_r)\n",
      "    node_rank_d = sorted(get_node_ranks_from_gpb(ranking_d), cmp = compare_ranks_node_id)\n",
      "    node_rank_r = sorted(get_node_ranks_from_gpb(ranking_r), cmp = compare_ranks_node_id)\n",
      "    ids_d = [r[0] for r in node_rank_d]\n",
      "    ids_r = [r[0] for r in node_rank_r]\n",
      "    ids_d = set(ids_d[:num_elements])\n",
      "    ids_r = set(ids_r[:num_elements])\n",
      "    diff_ids = ids_d ^ ids_r\n",
      "    return len(diff_ids) / num_elements*2.0\n",
      "    #diff_ids = sorted(list(diff_ids))\n",
      "    #for id_ in diff_ids:\n",
      "    #    if (not id_ in ids_d):\n",
      "    #        node_rank_d.append((id_, 10 ** 6))\n",
      "    #    if (not id_ in ids_r):\n",
      "    #        node_rank_r.append((id_, 10 ** 6))\n",
      "    #node_rank_d = [rank[0] for rank in node_rank_d]\n",
      "    #node_rank_r = [rank[0] for rank in node_rank_r]\n",
      "    #return st.kendalltau(node_rank_d, node_rank_r)"
     ],
     "language": "python",
     "metadata": {},
     "outputs": [],
     "prompt_number": 136
    },
    {
     "cell_type": "code",
     "collapsed": false,
     "input": [
      "def get_node_ranks_from_gpb(ranking):\n",
      "    node_ranks = []\n",
      "    for node_rank in ranking.node_ranks:\n",
      "        node_ranks.append((node_rank.node_id, node_rank.node_rank))\n",
      "    return node_ranks\n",
      "\n",
      "def compare_ranks_node_id(x, y):\n",
      "    node_id_x, node_rank_x = x\n",
      "    node_id_y, node_rank_y = y\n",
      "    if (node_rank_x < node_rank_y):\n",
      "        return -1\n",
      "    if (node_rank_x > node_rank_y):\n",
      "        return 1\n",
      "    if (node_id_x < node_rank_y):\n",
      "        return -1\n",
      "    if (node_id_x > node_rank_y):\n",
      "        return 1\n",
      "    return -1\n",
      "\n",
      "def path_leaf(path):\n",
      "    head, tail = ntpath.split(path)\n",
      "    return tail or ntpath.basename(head)"
     ],
     "language": "python",
     "metadata": {},
     "outputs": [],
     "prompt_number": 137
    },
    {
     "cell_type": "code",
     "collapsed": false,
     "input": [
      "b = int(time.time()) * 1000\n",
      "print get_kendall_dist(\"11907\", base_dir)\n",
      "a = int(time.time()) * 1000\n",
      "print a - b"
     ],
     "language": "python",
     "metadata": {},
     "outputs": [
      {
       "output_type": "stream",
       "stream": "stdout",
       "text": [
        "0.887\n",
        "2000\n"
       ]
      }
     ],
     "prompt_number": 138
    },
    {
     "cell_type": "code",
     "collapsed": false,
     "input": [
      "ids = glob.glob(\"/work/eng/eliavb/experiments/slashdot/*_*\")"
     ],
     "language": "python",
     "metadata": {},
     "outputs": [],
     "prompt_number": 104
    },
    {
     "cell_type": "code",
     "collapsed": false,
     "input": [
      "ids = list(set([path_leaf(path)[:-2] for path in ids]))"
     ],
     "language": "python",
     "metadata": {},
     "outputs": [],
     "prompt_number": 105
    },
    {
     "cell_type": "code",
     "collapsed": false,
     "input": [
      "kendall_dist = []\n",
      "for id_ in ids:\n",
      "    tau, p_value = get_kendall_dist(id_, base_dir)\n",
      "    kendall_dist.append((id_, tau, p_value))"
     ],
     "language": "python",
     "metadata": {},
     "outputs": [],
     "prompt_number": 106
    },
    {
     "cell_type": "code",
     "collapsed": false,
     "input": [
      "kendal_dist_val = [r[1] for r in kendall_dist]"
     ],
     "language": "python",
     "metadata": {},
     "outputs": [],
     "prompt_number": 107
    },
    {
     "cell_type": "code",
     "collapsed": false,
     "input": [
      "plt.hist(kendal_dist_val);"
     ],
     "language": "python",
     "metadata": {},
     "outputs": [
      {
       "metadata": {},
       "output_type": "display_data",
       "png": "[encoded data removed]",
       "text": [
        "<matplotlib.figure.Figure at 0x7f195d181610>"
       ]
      }
     ],
     "prompt_number": 109
    },
    {
     "cell_type": "code",
     "collapsed": false,
     "input": [
      "kendall_dist_1000 = []\n",
      "for id_ in ids:\n",
      "    diff_in_top_1000 = get_kendall_dist(id_, base_dir)\n",
      "    kendall_dist_1000.append((id_, diff_in_top_1000))"
     ],
     "language": "python",
     "metadata": {},
     "outputs": [],
     "prompt_number": 139
    },
    {
     "cell_type": "code",
     "collapsed": false,
     "input": [
      "dist_ = [r[1] for r in kendall_dist_1000]"
     ],
     "language": "python",
     "metadata": {},
     "outputs": [],
     "prompt_number": 140
    },
    {
     "cell_type": "code",
     "collapsed": false,
     "input": [
      "plt.hist(dist_);"
     ],
     "language": "python",
     "metadata": {},
     "outputs": [
      {
       "metadata": {},
       "output_type": "display_data",
       "png": "[encoded data removed]",
       "text": [
        "<matplotlib.figure.Figure at 0x7f1960b5fb10>"
       ]
      }
     ],
     "prompt_number": 141
    },
    {
     "cell_type": "code",
     "collapsed": false,
     "input": [],
     "language": "python",
     "metadata": {},
     "outputs": []
    }
   ],
   "metadata": {}
  }
 ]
}