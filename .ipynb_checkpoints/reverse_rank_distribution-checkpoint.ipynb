{
 "metadata": {
  "name": "",
  "signature": "sha256:8969bc9db7bf2ef97404af880e1474872f27048d51387bf50567787c024f9955"
 },
 "nbformat": 3,
 "nbformat_minor": 0,
 "worksheets": [
  {
   "cells": [
    {
     "cell_type": "code",
     "collapsed": false,
     "input": [
      "import pandas as pd\n",
      "import matplotlib.pyplot as plt\n",
      "import numpy as np\n",
      "#from scipy import stats as st\n",
      "import time\n",
      "import glob\n",
      "import ntpath"
     ],
     "language": "python",
     "metadata": {},
     "outputs": [],
     "prompt_number": 1
    },
    {
     "cell_type": "code",
     "collapsed": false,
     "input": [
      "sys.path.append('/work/eng/eliavb/all_distance_sketch/src/proto/')"
     ],
     "language": "python",
     "metadata": {},
     "outputs": [],
     "prompt_number": 2
    },
    {
     "cell_type": "code",
     "collapsed": false,
     "input": [
      "import cover_pb2\n",
      "import ranking_pb2"
     ],
     "language": "python",
     "metadata": {},
     "outputs": [],
     "prompt_number": 3
    },
    {
     "cell_type": "code",
     "collapsed": false,
     "input": [
      "def get_node_ranks_from_gpb(ranking):\n",
      "    node_ranks = []\n",
      "    for node_rank in ranking.node_ranks:\n",
      "        node_ranks.append((node_rank.node_id, node_rank.node_rank))\n",
      "    return node_ranks\n",
      "\n",
      "def compare_ranks_node_id(x, y):\n",
      "    node_id_x, node_rank_x = x\n",
      "    node_id_y, node_rank_y = y\n",
      "    if (node_rank_x < node_rank_y):\n",
      "        return -1\n",
      "    if (node_rank_x > node_rank_y):\n",
      "        return 1\n",
      "    if (node_id_x < node_id_y):\n",
      "        return -1\n",
      "    if (node_id_x > node_id_y):\n",
      "        return 1\n",
      "    return -1\n",
      "\n",
      "def path_leaf(path):\n",
      "    head, tail = ntpath.split(path)\n",
      "    return tail or ntpath.basename(head)"
     ],
     "language": "python",
     "metadata": {},
     "outputs": [],
     "prompt_number": 4
    },
    {
     "cell_type": "code",
     "collapsed": false,
     "input": [
      "base_dir = \"/work/eng/eliavb/experiments/youtube/\""
     ],
     "language": "python",
     "metadata": {},
     "outputs": [],
     "prompt_number": 27
    },
    {
     "cell_type": "code",
     "collapsed": false,
     "input": [
      "def get_kendall_dist(tup):\n",
      "    id_, base_dir, num_elements = tup\n",
      "    f_name_d = base_dir + id_ + \"_d\"\n",
      "    f_name_r = base_dir + id_ + \"_r\"\n",
      "    data_d = open(f_name_d, \"rb\").read()\n",
      "    data_r = open(f_name_r, \"rb\").read()\n",
      "    ranking_d = ranking_pb2.NodeRanksGpb()\n",
      "    ranking_r = ranking_pb2.NodeRanksGpb()\n",
      "    ranking_d.ParseFromString(data_d)\n",
      "    ranking_r.ParseFromString(data_r)\n",
      "    node_rank_d = sorted(get_node_ranks_from_gpb(ranking_d), cmp = compare_ranks_node_id)\n",
      "    node_rank_r = sorted(get_node_ranks_from_gpb(ranking_r), cmp = compare_ranks_node_id)\n",
      "    ids_d = [r[0] for r in node_rank_d]\n",
      "    ids_r = [r[0] for r in node_rank_r]\n",
      "    res = {}\n",
      "    for n_ in num_elements:\n",
      "        ids_d_set = set(ids_d[:n_])\n",
      "        ids_r_set = set(ids_r[:n_])\n",
      "        intersection = ids_d_set & ids_r_set\n",
      "        union = ids_d_set | ids_r_set\n",
      "        diff = float(len(intersection)) / float(min(len(ids_d_set), len(ids_r_set)))\n",
      "        res[n_] = []\n",
      "        res[n_].append((diff, id_))\n",
      "    return res"
     ],
     "language": "python",
     "metadata": {},
     "outputs": [],
     "prompt_number": 28
    },
    {
     "cell_type": "code",
     "collapsed": false,
     "input": [
      "b = int(time.time()) * 1000\n",
      "print get_kendall_dist((\"10010\", base_dir, [100, 1000, 5000, 10000, 20000, 100000, 10000000]))\n",
      "a = int(time.time()) * 1000\n",
      "print a - b"
     ],
     "language": "python",
     "metadata": {},
     "outputs": [
      {
       "output_type": "stream",
       "stream": "stdout",
       "text": [
        "{100000: [(1.0, '10010')], 20000: [(0.3008, '10010')], 100: [(0.09, '10010')], 1000: [(0.036, '10010')], 10000: [(0.1791, '10010')], 5000: [(0.2812, '10010')], 10000000: [(1.0, '10010')]}\n",
        "2000\n"
       ]
      }
     ],
     "prompt_number": 7
    },
    {
     "cell_type": "code",
     "collapsed": false,
     "input": [
      "ids = glob.glob(base_dir + \"*_[r|d]\")"
     ],
     "language": "python",
     "metadata": {},
     "outputs": [],
     "prompt_number": 29
    },
    {
     "cell_type": "code",
     "collapsed": false,
     "input": [
      "ids = list(set([path_leaf(path)[:-2] for path in ids]))"
     ],
     "language": "python",
     "metadata": {},
     "outputs": [],
     "prompt_number": 30
    },
    {
     "cell_type": "code",
     "collapsed": false,
     "input": [
      "from multiprocessing import Pool, TimeoutError"
     ],
     "language": "python",
     "metadata": {},
     "outputs": [],
     "prompt_number": 31
    },
    {
     "cell_type": "code",
     "collapsed": false,
     "input": [
      "pool = Pool(processes=10)\n",
      "#num_nodes = [100, 1000, 5000, 10 * 1000, 20 * 1000, 30 * 1000, 40 * 1000, 70 * 1000, 100 * 1000, 10000000]\n",
      "num_nodes = [100, 1000, 5000, 10 * 1000, 50 * 1000, 100 * 1000, 200 * 1000, 300 * 1000, 400 * 1000, 500 * 1000, 600 * 1000, 800 * 1000, 2000 * 1000]\n",
      "b = int(time.time()) * 1000\n",
      "kendall_dist = {}\n",
      "for n_ in num_nodes:\n",
      "    kendall_dist[n_] = []\n",
      "args = []\n",
      "for id_ in ids:\n",
      "    args.append((id_, base_dir, num_nodes))\n",
      "for res in pool.imap_unordered(get_kendall_dist, args):\n",
      "    for n_ in num_nodes:\n",
      "        kendall_dist[n_] += res[n_]\n",
      "a = int(time.time()) * 1000\n",
      "pool.close()\n",
      "pool.join()\n",
      "print a - b"
     ],
     "language": "python",
     "metadata": {},
     "outputs": []
    },
    {
     "cell_type": "code",
     "collapsed": false,
     "input": [
      "pickle.dump(kendall_dist, open( base_dir + \"results_dict\", 'wb'))"
     ],
     "language": "python",
     "metadata": {},
     "outputs": []
    },
    {
     "cell_type": "code",
     "collapsed": false,
     "input": [
      "plt.hist([r[0] for r in kendall_dist[100]]);"
     ],
     "language": "python",
     "metadata": {},
     "outputs": [
      {
       "metadata": {},
       "output_type": "display_data",
       "png": "[encoded data removed]",
       "text": [
        "<matplotlib.figure.Figure at 0x7fbb0db7e550>"
       ]
      }
     ],
     "prompt_number": 12
    },
    {
     "cell_type": "code",
     "collapsed": false,
     "input": [
      "plt.hist([r[0] for r in kendall_dist[1000]]);"
     ],
     "language": "python",
     "metadata": {},
     "outputs": [
      {
       "metadata": {},
       "output_type": "display_data",
       "png": "[encoded data removed]",
       "text": [
        "<matplotlib.figure.Figure at 0x7fbb0d856990>"
       ]
      }
     ],
     "prompt_number": 13
    },
    {
     "cell_type": "code",
     "collapsed": false,
     "input": [
      "plt.hist([r[0] for r in kendall_dist[5000]]);"
     ],
     "language": "python",
     "metadata": {},
     "outputs": [
      {
       "metadata": {},
       "output_type": "display_data",
       "png": "[encoded data removed]",
       "text": [
        "<matplotlib.figure.Figure at 0x7fbb0da263d0>"
       ]
      }
     ],
     "prompt_number": 14
    },
    {
     "cell_type": "code",
     "collapsed": false,
     "input": [
      "plt.hist([r[0] for r in kendall_dist[10000]]);"
     ],
     "language": "python",
     "metadata": {},
     "outputs": [
      {
       "metadata": {},
       "output_type": "display_data",
       "png": "[encoded data removed]",
       "text": [
        "<matplotlib.figure.Figure at 0x7fbb052a8c90>"
       ]
      }
     ],
     "prompt_number": 16
    },
    {
     "cell_type": "code",
     "collapsed": false,
     "input": [
      "plt.hist([r[0] for r in kendall_dist[20000]]);"
     ],
     "language": "python",
     "metadata": {},
     "outputs": [
      {
       "metadata": {},
       "output_type": "display_data",
       "png": "[encoded data removed]",
       "text": [
        "<matplotlib.figure.Figure at 0x7fbb0ba15450>"
       ]
      }
     ],
     "prompt_number": 18
    },
    {
     "cell_type": "code",
     "collapsed": false,
     "input": [
      "plt.hist([r[0] for r in kendall_dist[40000]]);"
     ],
     "language": "python",
     "metadata": {},
     "outputs": [
      {
       "metadata": {},
       "output_type": "display_data",
       "png": "[encoded data removed]",
       "text": [
        "<matplotlib.figure.Figure at 0x7fbb0b91ba90>"
       ]
      }
     ],
     "prompt_number": 19
    },
    {
     "cell_type": "code",
     "collapsed": false,
     "input": [
      "plt.hist([r[0] for r in kendall_dist[70000]]);"
     ],
     "language": "python",
     "metadata": {},
     "outputs": [
      {
       "metadata": {},
       "output_type": "display_data",
       "png": "[encoded data removed]",
       "text": [
        "<matplotlib.figure.Figure at 0x7fbb0b8dbe90>"
       ]
      }
     ],
     "prompt_number": 20
    },
    {
     "cell_type": "code",
     "collapsed": false,
     "input": [
      "plt.hist([r[0] for r in kendall_dist[100000]]);"
     ],
     "language": "python",
     "metadata": {},
     "outputs": [
      {
       "metadata": {},
       "output_type": "display_data",
       "png": "[encoded data removed]",
       "text": [
        "<matplotlib.figure.Figure at 0x7fbb0b781090>"
       ]
      }
     ],
     "prompt_number": 21
    },
    {
     "cell_type": "code",
     "collapsed": false,
     "input": [
      "import pickle"
     ],
     "language": "python",
     "metadata": {},
     "outputs": [],
     "prompt_number": 23
    },
    {
     "cell_type": "code",
     "collapsed": false,
     "input": [
      "pickle.dump(kendall_dist, open( base_dir + \"results_dict\", 'wb'))"
     ],
     "language": "python",
     "metadata": {},
     "outputs": [],
     "prompt_number": 24
    },
    {
     "cell_type": "code",
     "collapsed": false,
     "input": [
      "res = pickle.load(open('/work/eng/eliavb/experiments/slashdot/results_dict', 'rb'))"
     ],
     "language": "python",
     "metadata": {},
     "outputs": [],
     "prompt_number": 25
    },
    {
     "cell_type": "code",
     "collapsed": false,
     "input": [
      "res.keys()"
     ],
     "language": "python",
     "metadata": {},
     "outputs": [
      {
       "metadata": {},
       "output_type": "pyout",
       "prompt_number": 26,
       "text": [
        "[20000, 10000000, 100, 1000, 30000, 10000, 5000, 40000, 70000, 100000]"
       ]
      }
     ],
     "prompt_number": 26
    },
    {
     "cell_type": "code",
     "collapsed": false,
     "input": [],
     "language": "python",
     "metadata": {},
     "outputs": []
    }
   ],
   "metadata": {}
  }
 ]
}