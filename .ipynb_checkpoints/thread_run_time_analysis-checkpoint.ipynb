{
 "metadata": {
  "name": "",
  "signature": "sha256:49ea7d71fe98ab66ef2e60ecabc0dc82bb855aaf098b970a7490b8befdf9cfca"
 },
 "nbformat": 3,
 "nbformat_minor": 0,
 "worksheets": []
}