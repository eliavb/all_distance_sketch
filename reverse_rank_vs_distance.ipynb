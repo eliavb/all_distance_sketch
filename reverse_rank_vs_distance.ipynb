{
 "metadata": {
  "name": "",
  "signature": "sha256:c9452bfbeb3560d0b939c7b68b2ad64d59e544b256581b20d7b6a949171eb214"
 },
 "nbformat": 3,
 "nbformat_minor": 0,
 "worksheets": [
  {
   "cells": [
    {
     "cell_type": "code",
     "collapsed": false,
     "input": [
      "import pandas as pd\n",
      "import matplotlib.pyplot as plt\n",
      "import numpy as np\n",
      "#from scipy import stats as st\n",
      "import time\n",
      "import glob\n",
      "import ntpath"
     ],
     "language": "python",
     "metadata": {},
     "outputs": [],
     "prompt_number": 1
    },
    {
     "cell_type": "code",
     "collapsed": false,
     "input": [
      "sys.path.append('/work/eng/eliavb/all_distance_sketch/src/proto/')"
     ],
     "language": "python",
     "metadata": {},
     "outputs": [],
     "prompt_number": 2
    },
    {
     "cell_type": "code",
     "collapsed": false,
     "input": [
      "import cover_pb2\n",
      "import ranking_pb2"
     ],
     "language": "python",
     "metadata": {},
     "outputs": [],
     "prompt_number": 3
    },
    {
     "cell_type": "code",
     "collapsed": false,
     "input": [
      "def get_node_ranks_from_gpb(ranking):\n",
      "    node_ranks = []\n",
      "    for node_rank in ranking.node_ranks:\n",
      "        node_ranks.append((node_rank.node_id, node_rank.node_rank))\n",
      "    return node_ranks\n",
      "\n",
      "def compare_ranks_node_id(x, y):\n",
      "    node_id_x, node_rank_x = x\n",
      "    node_id_y, node_rank_y = y\n",
      "    if (node_rank_x < node_rank_y):\n",
      "        return -1\n",
      "    if (node_rank_x > node_rank_y):\n",
      "        return 1\n",
      "    if (node_id_x < node_id_y):\n",
      "        return -1\n",
      "    if (node_id_x > node_id_y):\n",
      "        return 1\n",
      "    return -1\n",
      "\n",
      "def path_leaf(path):\n",
      "    head, tail = ntpath.split(path)\n",
      "    return tail or ntpath.basename(head)"
     ],
     "language": "python",
     "metadata": {},
     "outputs": [],
     "prompt_number": 51
    },
    {
     "cell_type": "code",
     "collapsed": false,
     "input": [
      "base_dir = \"/work/eng/eliavb/experiments/slashdot/\"\n",
      "def get_kendall_dist(id_, base_dir, num_elements):\n",
      "    f_name_d = base_dir + id_ + \"_d\"\n",
      "    f_name_r = base_dir + id_ + \"_r\"\n",
      "    data_d = open(f_name_d, \"rb\").read()\n",
      "    data_r = open(f_name_r, \"rb\").read()\n",
      "    ranking_d = ranking_pb2.NodeRanksGpb()\n",
      "    ranking_r = ranking_pb2.NodeRanksGpb()\n",
      "    ranking_d.ParseFromString(data_d)\n",
      "    ranking_r.ParseFromString(data_r)\n",
      "    node_rank_d = sorted(get_node_ranks_from_gpb(ranking_d), cmp = compare_ranks_node_id)\n",
      "    node_rank_r = sorted(get_node_ranks_from_gpb(ranking_r), cmp = compare_ranks_node_id)\n",
      "    print len(node_rank_d)\n",
      "    print len(node_rank_r)\n",
      "    ids_d = [r[0] for r in node_rank_d]\n",
      "    ids_r = [r[0] for r in node_rank_r]\n",
      "    ids_d = set(ids_d[:num_elements])\n",
      "    ids_r = set(ids_r[:num_elements])\n",
      "    intersection = ids_d & ids_r\n",
      "    union = ids_d | ids_r\n",
      "    print len(union)\n",
      "    print len(intersection)\n",
      "    return float(len(intersection)) / float(len(union))"
     ],
     "language": "python",
     "metadata": {},
     "outputs": [],
     "prompt_number": 58
    },
    {
     "cell_type": "code",
     "collapsed": false,
     "input": [
      "b = int(time.time()) * 1000\n",
      "print get_kendall_dist(\"11784\", base_dir, 80000)\n",
      "a = int(time.time()) * 1000\n",
      "print a - b"
     ],
     "language": "python",
     "metadata": {},
     "outputs": [
      {
       "output_type": "stream",
       "stream": "stdout",
       "text": [
        "77360\n",
        "70355\n",
        "77360\n",
        "70355\n",
        "0.909449327818"
       ]
      },
      {
       "output_type": "stream",
       "stream": "stdout",
       "text": [
        "\n",
        "3000\n"
       ]
      }
     ],
     "prompt_number": 63
    },
    {
     "cell_type": "code",
     "collapsed": false,
     "input": [
      "ids = glob.glob(\"/work/eng/eliavb/experiments/slashdot/*_*\")"
     ],
     "language": "python",
     "metadata": {},
     "outputs": [],
     "prompt_number": 8
    },
    {
     "cell_type": "code",
     "collapsed": false,
     "input": [
      "plt.hist(kendal_dist_val);"
     ],
     "language": "python",
     "metadata": {},
     "outputs": [
      {
       "metadata": {},
       "output_type": "display_data",
       "png": "[encoded data removed]",
       "text": [
        "<matplotlib.figure.Figure at 0x7f195d181610>"
       ]
      }
     ],
     "prompt_number": 109
    },
    {
     "cell_type": "code",
     "collapsed": false,
     "input": [
      "ids = list(set([path_leaf(path)[:-2] for path in ids]))"
     ],
     "language": "python",
     "metadata": {},
     "outputs": [],
     "prompt_number": 9
    },
    {
     "cell_type": "code",
     "collapsed": false,
     "input": [
      "num_nodes = [100, 1000, 10000, 100000, 1000000]\n",
      "for n_ in num_nodes:\n",
      "    kendall_dist[n_] = []\n",
      "    for id_ in ids:\n",
      "        diff = get_kendall_dist(id_, base_dir, n_)\n",
      "        kendall_dist[n_].append((id_, diff))"
     ],
     "language": "python",
     "metadata": {},
     "outputs": [],
     "prompt_number": 11
    },
    {
     "cell_type": "code",
     "collapsed": false,
     "input": [
      "dist_ = [r[1] for r in kendall_dist[100]]"
     ],
     "language": "python",
     "metadata": {},
     "outputs": [],
     "prompt_number": 24
    },
    {
     "cell_type": "code",
     "collapsed": false,
     "input": [
      "#dist_"
     ],
     "language": "python",
     "metadata": {},
     "outputs": [],
     "prompt_number": 28
    },
    {
     "cell_type": "code",
     "collapsed": false,
     "input": [],
     "language": "python",
     "metadata": {},
     "outputs": []
    }
   ],
   "metadata": {}
  }
 ]
}