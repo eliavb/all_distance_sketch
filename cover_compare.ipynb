{
 "metadata": {
  "name": "",
  "signature": "sha256:da7d5824699a0cc88089d9f3a89e6792fc1c9ed6f4afa9614806f6674677e899"
 },
 "nbformat": 3,
 "nbformat_minor": 0,
 "worksheets": [
  {
   "cells": [
    {
     "cell_type": "code",
     "collapsed": false,
     "input": [
      "import pandas as pd\n",
      "import matplotlib.pyplot as plt\n",
      "import numpy as np\n",
      "#from scipy import stats as st\n",
      "import time\n",
      "import glob\n",
      "import ntpath"
     ],
     "language": "python",
     "metadata": {},
     "outputs": [],
     "prompt_number": 92
    },
    {
     "cell_type": "code",
     "collapsed": false,
     "input": [
      "sys.path.append('/work/eng/eliavb/all_distance_sketch/src/proto/')"
     ],
     "language": "python",
     "metadata": {},
     "outputs": [],
     "prompt_number": 93
    },
    {
     "cell_type": "code",
     "collapsed": false,
     "input": [
      "import cover_pb2\n",
      "import ranking_pb2"
     ],
     "language": "python",
     "metadata": {},
     "outputs": [],
     "prompt_number": 94
    },
    {
     "cell_type": "code",
     "collapsed": false,
     "input": [
      "def get_cover_gpb(cover_gpb):\n",
      "    cover = []\n",
      "    for seed_info in cover_gpb.seeds:\n",
      "        cover.append((seed_info.seed_node_id, len(seed_info.node_ids)))\n",
      "    return cover"
     ],
     "language": "python",
     "metadata": {},
     "outputs": [],
     "prompt_number": 95
    },
    {
     "cell_type": "code",
     "collapsed": false,
     "input": [
      "def get_cover(file_name):\n",
      "    data = open(file_name, \"rb\").read()\n",
      "    cover_gpb = cover_pb2.CoverGpb()\n",
      "    cover_gpb.ParseFromString(data)\n",
      "    return get_cover_gpb(cover_gpb)\n",
      "\n",
      "def get_cum_cover(file_name):\n",
      "    cover = get_cover(file_name)\n",
      "    cover_ranks = [cover_info[1] for cover_info in cover]\n",
      "    cover_ranks = sorted(cover_ranks, reverse=True)\n",
      "    return np.cumsum(cover_ranks)"
     ],
     "language": "python",
     "metadata": {},
     "outputs": [],
     "prompt_number": 134
    },
    {
     "cell_type": "code",
     "collapsed": false,
     "input": [
      "print get_cum_cover(\"/work/eng/eliavb/experiments/facebook/cover_100\")[0]\n",
      "print get_cum_cover(\"/work/eng/eliavb/experiments/facebook/cover_100_approx\")[0]"
     ],
     "language": "python",
     "metadata": {},
     "outputs": [
      {
       "output_type": "stream",
       "stream": "stdout",
       "text": [
        "280\n",
        "285\n"
       ]
      }
     ],
     "prompt_number": 135
    },
    {
     "cell_type": "code",
     "collapsed": false,
     "input": [
      "plt.plot(get_cum_cover(\"/work/eng/eliavb/experiments/facebook/cover_100\"))\n",
      "plt.plot(get_cum_cover(\"/work/eng/eliavb/experiments/facebook/cover_100_approx\"))"
     ],
     "language": "python",
     "metadata": {},
     "outputs": [
      {
       "metadata": {},
       "output_type": "pyout",
       "prompt_number": 136,
       "text": [
        "[<matplotlib.lines.Line2D at 0x7fbb0dae02d0>]"
       ]
      },
      {
       "metadata": {},
       "output_type": "display_data",
       "png": "[encoded data removed]",
       "text": [
        "<matplotlib.figure.Figure at 0x7fbb0b1bd290>"
       ]
      }
     ],
     "prompt_number": 136
    },
    {
     "cell_type": "code",
     "collapsed": false,
     "input": [],
     "language": "python",
     "metadata": {},
     "outputs": [],
     "prompt_number": 133
    },
    {
     "cell_type": "code",
     "collapsed": false,
     "input": [],
     "language": "python",
     "metadata": {},
     "outputs": []
    }
   ],
   "metadata": {}
  }
 ]
}