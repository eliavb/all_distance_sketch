{
 "metadata": {
  "name": "",
  "signature": "sha256:db746dc8d82e0a3ff17532230ee3bba30c51173da0f99a950ae972dc4287b23f"
 },
 "nbformat": 3,
 "nbformat_minor": 0,
 "worksheets": [
  {
   "cells": [
    {
     "cell_type": "code",
     "collapsed": false,
     "input": [
      "import pandas as pd\n",
      "import matplotlib.pyplot as plt\n",
      "import numpy as np\n",
      "#from scipy import stats as st\n",
      "import time\n",
      "import glob\n",
      "import ntpath"
     ],
     "language": "python",
     "metadata": {},
     "outputs": [],
     "prompt_number": 92
    },
    {
     "cell_type": "code",
     "collapsed": false,
     "input": [
      "sys.path.append('/work/eng/eliavb/all_distance_sketch/src/proto/')"
     ],
     "language": "python",
     "metadata": {},
     "outputs": [],
     "prompt_number": 93
    },
    {
     "cell_type": "code",
     "collapsed": false,
     "input": [
      "import cover_pb2\n",
      "import ranking_pb2"
     ],
     "language": "python",
     "metadata": {},
     "outputs": [],
     "prompt_number": 94
    },
    {
     "cell_type": "code",
     "collapsed": false,
     "input": [
      "def get_cover_gpb(cover_gpb):\n",
      "    cover = []\n",
      "    for seed_info in cover_gpb.seeds:\n",
      "        cover.append((seed_info.seed_node_id, len(seed_info.node_ids)))\n",
      "    return cover"
     ],
     "language": "python",
     "metadata": {},
     "outputs": [],
     "prompt_number": 95
    },
    {
     "cell_type": "code",
     "collapsed": false,
     "input": [
      "def get_cover(file_name):\n",
      "    data = open(file_name, \"rb\").read()\n",
      "    cover_gpb = cover_pb2.CoverGpb()\n",
      "    cover_gpb.ParseFromString(data)\n",
      "    return get_cover_gpb(cover_gpb)\n",
      "\n",
      "def get_cum_cover(file_name):\n",
      "    cover = get_cover(file_name)\n",
      "    cover_ranks = [cover_info[1] for cover_info in cover]\n",
      "    cover_ranks = sorted(cover_ranks, reverse=True)\n",
      "    return np.cumsum(cover_ranks)"
     ],
     "language": "python",
     "metadata": {},
     "outputs": [],
     "prompt_number": 120
    },
    {
     "cell_type": "code",
     "collapsed": false,
     "input": [
      "print get_cum_cover(\"/work/eng/eliavb/experiments/facebook/cover_100\")[0]\n",
      "print get_cum_cover(\"/work/eng/eliavb/experiments/facebook/cover_100_approx\")[0]"
     ],
     "language": "python",
     "metadata": {},
     "outputs": [
      {
       "output_type": "stream",
       "stream": "stdout",
       "text": [
        "282\n",
        "285\n"
       ]
      }
     ],
     "prompt_number": 125
    },
    {
     "cell_type": "code",
     "collapsed": false,
     "input": [
      "plt.plot(get_cum_cover(\"/work/eng/eliavb/experiments/facebook/cover_100\"))\n",
      "plt.plot(get_cum_cover(\"/work/eng/eliavb/experiments/facebook/cover_100_approx\"))"
     ],
     "language": "python",
     "metadata": {},
     "outputs": [
      {
       "metadata": {},
       "output_type": "pyout",
       "prompt_number": 133,
       "text": [
        "[<matplotlib.lines.Line2D at 0x7fbb0b3b8210>]"
       ]
      },
      {
       "metadata": {},
       "output_type": "display_data",
       "png": "[encoded data removed]",
       "text": [
        "<matplotlib.figure.Figure at 0x7fbb0b94dbd0>"
       ]
      }
     ],
     "prompt_number": 133
    },
    {
     "cell_type": "code",
     "collapsed": false,
     "input": [],
     "language": "python",
     "metadata": {},
     "outputs": [],
     "prompt_number": 133
    },
    {
     "cell_type": "code",
     "collapsed": false,
     "input": [],
     "language": "python",
     "metadata": {},
     "outputs": []
    }
   ],
   "metadata": {}
  }
 ]
}